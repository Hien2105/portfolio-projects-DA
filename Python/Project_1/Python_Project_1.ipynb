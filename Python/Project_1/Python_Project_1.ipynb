{
 "cells": [
  {
   "cell_type": "code",
   "execution_count": 1,
   "metadata": {},
   "outputs": [
    {
     "name": "stdout",
     "output_type": "stream",
     "text": [
      "{'friendship': 2, 'is': 1, 'one': 1, 'of': 4, 'the': 1, 'most': 1, 'important': 1, 'things': 2, 'in': 1, 'life': 3, 'probably': 1, 'everybody': 1, 'has': 2, 'a': 4, 'few': 1, 'close': 1, 'friends': 1, 'who': 1, 'you': 1, 'met': 1, 'at': 2, 'school': 1, 'or': 1, 'university': 1, 'nevertheless': 1, 'i': 1, 'think': 1, 'that': 1, 'our': 1, 'does': 1, 'consists': 1, 'more': 1, 'significant': 2, 'even': 1, 'than': 1, 'for': 1, 'example': 1, 'family': 2, 'and': 2, 'self-realisation': 1, 'are': 1, 'vital': 1, 'necessities': 1, 'all': 1, 'times': 1, 'firstly': 1, 'influence': 1, 'on': 1, 'both': 1, 'upbringing': 1, 'education': 1, 'child': 1, 'since': 1, 'early': 1, 'age': 1}\n",
      "of 4\n",
      "a 4\n"
     ]
    }
   ],
   "source": [
    "#Practice 1: Create a function to find which word occurs the most ?\n",
    "def word_occurs_the_most(paragraph) : \n",
    "    #Clean the paragraph\n",
    "    paragraph_remove_comma = paragraph.replace(\",\",\"\")\n",
    "    paragraph_remove_dot = paragraph_remove_comma.replace(\".\",\"\")\n",
    "    paragraph_remove_lowercase = paragraph_remove_dot.lower()\n",
    "    paragraph_split = paragraph_remove_lowercase.split()\n",
    "    #Get the dictionary of frequency\n",
    "    Frequency = {}\n",
    "    for value in paragraph_split :\n",
    "        if value in Frequency : \n",
    "            Frequency[value] += 1\n",
    "        else :\n",
    "            Frequency[value]  = 1\n",
    "    print(Frequency)\n",
    "    #Get the list of words with highest frequency\n",
    "    highest_frequency = max(Frequency.values())\n",
    "    for Key, value in Frequency.items() :\n",
    "        if value == highest_frequency :\n",
    "            print(Key, value)\n",
    "\n",
    "paragraph = \"Friendship is one of the most important things in life. Probably everybody has a few close friends who you met at school or university. Nevertheless, I think that our life does consists of more significant things even than friendship. For example, family and self-realisation are vital necessities of life at all times. Firstly, a family has a significant influence on both upbringing and education of a child since early age.\"\n",
    "word_occurs_the_most(paragraph)"
   ]
  },
  {
   "cell_type": "code",
   "execution_count": 2,
   "metadata": {},
   "outputs": [
    {
     "name": "stdout",
     "output_type": "stream",
     "text": [
      "{'friendship': 3, 'is': 3, 'one': 1, 'of': 1, 'the': 1, 'greatest': 1, 'bonds': 1, 'anyone': 1, 'can': 2, 'ever': 1, 'wish': 1, 'for': 2, 'lucky': 1, 'are': 1, 'those': 1, 'who': 2, 'have': 2, 'friends': 1, 'they': 2, 'trust': 1, 'a': 2, 'devoted': 1, 'relationship': 1, 'between': 1, 'two': 2, 'individuals': 1, 'both': 1, 'feel': 1, 'immense': 1, 'care': 1, 'and': 2, 'love': 1, 'each': 1, 'other': 1, 'usually': 1, 'shared': 1, 'by': 1, 'people': 1, 'similar': 1, 'interests': 1, 'feelings': 1}\n",
      "31\n"
     ]
    }
   ],
   "source": [
    "#Practice 2: Count the unique words of the following text\n",
    "paragraph_2 = \"Friendship is one of the greatest bonds anyone can ever wish for. Lucky are those who have friends they can trust. Friendship is a devoted relationship between two individuals. They both feel immense care and love for each other. Usually, a friendship is shared by two people who have similar interests and feelings\"\n",
    "#Clean the paragraph\n",
    "paragraph_remove_comma_2 = paragraph_2.replace(\",\",\"\")\n",
    "paragraph_remove_dot_2 = paragraph_remove_comma_2.replace(\".\",\"\")\n",
    "paragraph_remove_lowercase_2 = paragraph_remove_dot_2.lower()\n",
    "paragraph_split_2 = paragraph_remove_lowercase_2.split()\n",
    "#Get the dictionary of frequency\n",
    "Frequency_2 = {}\n",
    "for value in paragraph_split_2 :\n",
    "    if value in Frequency_2 : \n",
    "        Frequency_2[value] += 1\n",
    "    else :\n",
    "        Frequency_2[value]  = 1\n",
    "print(Frequency_2)\n",
    "#Count the unique words\n",
    "count = 0\n",
    "for key, value in Frequency_2.items() :\n",
    "    if value == 1 :\n",
    "        count += 1\n",
    "print(count)"
   ]
  },
  {
   "cell_type": "code",
   "execution_count": null,
   "metadata": {},
   "outputs": [
    {
     "name": "stdout",
     "output_type": "stream",
     "text": [
      "7\n",
      "13\n"
     ]
    }
   ],
   "source": [
    "#Practice 3: Find the number or prime number from the following list\n",
    "Number = [1, 7, 6, 9, 13, 21, 27]\n",
    "#Create loop to find number can only divide to 1 and itself\n",
    "for value in Number : \n",
    "    if value > 1 : #becasue prime number is not == to 1 \n",
    "        for x in range(2, int(value **0.5) + 1) :  # loop in range from 2 to square root of each number in the list to find which number in the list can't divide to number in range => prime number\n",
    "            if value % x == 0: \n",
    "                break\n",
    "        else :\n",
    "            print(value)"
   ]
  },
  {
   "cell_type": "code",
   "execution_count": 9,
   "metadata": {},
   "outputs": [
    {
     "name": "stdout",
     "output_type": "stream",
     "text": [
      "['listen', 'silent', 'the', 'to', 'whispers']\n",
      "['listen', 'silent', 'the', 'to', 'whispers']\n",
      "sentence 1 vs 2 are anagrams\n",
      "sentence 3 vs 4 are not anagrams\n"
     ]
    }
   ],
   "source": [
    "#Pratice 4: Check if these two couples of sentences (Sentence 1 & 2, Sentence 3 & 4) are anagrams or not\n",
    "Sentence_1 = \"listen to the silent whispers\"\n",
    "Sentence_2 = \"silent whispers to the listen\"\n",
    "Sentence_3 = \"listen to the silent night\"\n",
    "Sentence_4 = \"silent whispers to the listen\"\n",
    "#clean sentences\n",
    "# Sentence_1 = Sentence_1.replace(\" \",\"\")\n",
    "# Sentence_2 = Sentence_2.replace(\" \",\"\")\n",
    "# Sentence_3 = Sentence_3.replace(\" \",\"\")\n",
    "# Sentence_4 = Sentence_4.replace(\" \",\"\")\n",
    "Sentence_1 = Sentence_1.split()\n",
    "Sentence_2 = Sentence_2.split()\n",
    "Sentence_3 = Sentence_3.split()\n",
    "Sentence_4 = Sentence_4.split()\n",
    "print(sorted(Sentence_1))\n",
    "print(sorted(Sentence_2))\n",
    "\n",
    "\n",
    "\n",
    "#compare len of sentence 1 vs 2, after that compare the sorted list of 2 sentence\n",
    "if len(Sentence_1) == len(Sentence_2) :\n",
    "    if sorted(Sentence_1) == sorted(Sentence_2) : \n",
    "        print(\"sentence 1 vs 2 are \" + \"anagrams\")\n",
    "    else :\n",
    "        print(\"sentence 1 vs 2 are \" + \"not anagrams\")\n",
    "else :\n",
    "    print(\"sentence 1 vs 2 not match\")\n",
    "#compare len of sentence 3 vs 4, after that compare the sorted list of 2 sentence\n",
    "if len(Sentence_3) == len(Sentence_4) :\n",
    "    if sorted(Sentence_3) == sorted(Sentence_4) : \n",
    "         print(\"sentence 3 vs 4 are \" + \"anagrams\")\n",
    "    else :\n",
    "         print(\"sentence 3 vs 4 are \" + \"not anagrams\")\n",
    "else :\n",
    "    print(\"sentence 3 vs 4 not match\")\n"
   ]
  },
  {
   "cell_type": "code",
   "execution_count": 6,
   "metadata": {},
   "outputs": [
    {
     "name": "stdout",
     "output_type": "stream",
     "text": [
      "Please adjust the character length under 200 characters. Current character length is 248\n"
     ]
    }
   ],
   "source": [
    "#Pratice_5: create a function to check submission\n",
    "def submission_check(Submission) :\n",
    "    #Clean the submission\n",
    "    Submission_remove_comma = Submission.replace(\",\",\"\")\n",
    "    Submission_remove_dot = Submission_remove_comma.replace(\".\",\"\")\n",
    "    Submission_remove_lowercase = Submission_remove_dot.lower()\n",
    "    Submission_split = Submission_remove_lowercase.split()\n",
    "    #Set Words and characters condition\n",
    "    if len(Submission_split) < 50 and len(list(Submission)) < 200 :\n",
    "        print(\"Submission word and character qualified\")\n",
    "    elif len(Submission_split) >= 50 and len(list(Submission)) < 200 :\n",
    "        print(\"Please adjust the text length under 50 words. Current text length is \" + str(len(Submission_split)))\n",
    "    elif len(Submission_split) < 50 and len(list(Submission)) >= 200 :\n",
    "        print(\"Please adjust the character length under 200 characters. Current character length is \" + str(len(list(Submission))))\n",
    "    else :\n",
    "        print(\"Please adjust the text length and characters contained in the paragraph.\")\n",
    "\n",
    "\n",
    "Submission= \"I am very excited about the opportunity to work with your company. My skills in data analysis and programming make me confident that I would be a valuable addition to your team. I look forward to the chance to contribute and grow with your company.\"\n",
    "submission_check(Submission)"
   ]
  }
 ],
 "metadata": {
  "kernelspec": {
   "display_name": "Python 3",
   "language": "python",
   "name": "python3"
  },
  "language_info": {
   "codemirror_mode": {
    "name": "ipython",
    "version": 3
   },
   "file_extension": ".py",
   "mimetype": "text/x-python",
   "name": "python",
   "nbconvert_exporter": "python",
   "pygments_lexer": "ipython3",
   "version": "3.11.4"
  }
 },
 "nbformat": 4,
 "nbformat_minor": 2
}
